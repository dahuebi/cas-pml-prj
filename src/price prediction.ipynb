{
 "cells": [
  {
   "cell_type": "markdown",
   "metadata": {},
   "source": [
    "# Price Prediction"
   ]
  },
  {
   "cell_type": "code",
   "execution_count": 1,
   "metadata": {},
   "outputs": [],
   "source": [
    "# import modules\n",
    "import pandas as pd\n",
    "import numpy as np\n",
    "import seaborn as sns\n",
    "import matplotlib.pyplot as plt"
   ]
  },
  {
   "cell_type": "markdown",
   "metadata": {},
   "source": [
    "## Import code from __scrape__ notebook"
   ]
  },
  {
   "cell_type": "code",
   "execution_count": 2,
   "metadata": {},
   "outputs": [],
   "source": [
    "import ipynb.fs  # Boilerplate required\n",
    "from .defs.scrape import loadHistoricalData"
   ]
  },
  {
   "cell_type": "markdown",
   "metadata": {},
   "source": [
    "## Load historical data into a dataframe"
   ]
  },
  {
   "cell_type": "code",
   "execution_count": 3,
   "metadata": {},
   "outputs": [
    {
     "data": {
      "text/html": [
       "<div>\n",
       "<style scoped>\n",
       "    .dataframe tbody tr th:only-of-type {\n",
       "        vertical-align: middle;\n",
       "    }\n",
       "\n",
       "    .dataframe tbody tr th {\n",
       "        vertical-align: top;\n",
       "    }\n",
       "\n",
       "    .dataframe thead th {\n",
       "        text-align: right;\n",
       "    }\n",
       "</style>\n",
       "<table border=\"1\" class=\"dataframe\">\n",
       "  <thead>\n",
       "    <tr style=\"text-align: right;\">\n",
       "      <th></th>\n",
       "      <th>name</th>\n",
       "      <th>open</th>\n",
       "      <th>high</th>\n",
       "      <th>low</th>\n",
       "      <th>close</th>\n",
       "      <th>volume</th>\n",
       "      <th>market</th>\n",
       "    </tr>\n",
       "    <tr>\n",
       "      <th>date</th>\n",
       "      <th></th>\n",
       "      <th></th>\n",
       "      <th></th>\n",
       "      <th></th>\n",
       "      <th></th>\n",
       "      <th></th>\n",
       "      <th></th>\n",
       "    </tr>\n",
       "  </thead>\n",
       "  <tbody>\n",
       "    <tr>\n",
       "      <th>2018-01-26</th>\n",
       "      <td>BTC</td>\n",
       "      <td>11256.0</td>\n",
       "      <td>11656.7</td>\n",
       "      <td>10470.3</td>\n",
       "      <td>11171.4</td>\n",
       "      <td>9746200000</td>\n",
       "      <td>189398000000</td>\n",
       "    </tr>\n",
       "    <tr>\n",
       "      <th>2018-01-25</th>\n",
       "      <td>BTC</td>\n",
       "      <td>11421.7</td>\n",
       "      <td>11785.7</td>\n",
       "      <td>11057.4</td>\n",
       "      <td>11259.4</td>\n",
       "      <td>8873170000</td>\n",
       "      <td>192163000000</td>\n",
       "    </tr>\n",
       "    <tr>\n",
       "      <th>2018-01-24</th>\n",
       "      <td>BTC</td>\n",
       "      <td>10903.4</td>\n",
       "      <td>11501.4</td>\n",
       "      <td>10639.8</td>\n",
       "      <td>11359.4</td>\n",
       "      <td>9940990000</td>\n",
       "      <td>183419000000</td>\n",
       "    </tr>\n",
       "    <tr>\n",
       "      <th>2018-01-23</th>\n",
       "      <td>BTC</td>\n",
       "      <td>10944.5</td>\n",
       "      <td>11377.6</td>\n",
       "      <td>10129.7</td>\n",
       "      <td>10868.4</td>\n",
       "      <td>9660610000</td>\n",
       "      <td>184087000000</td>\n",
       "    </tr>\n",
       "    <tr>\n",
       "      <th>2018-01-22</th>\n",
       "      <td>BTC</td>\n",
       "      <td>11633.1</td>\n",
       "      <td>11966.4</td>\n",
       "      <td>10240.2</td>\n",
       "      <td>10931.4</td>\n",
       "      <td>10537400000</td>\n",
       "      <td>195645000000</td>\n",
       "    </tr>\n",
       "  </tbody>\n",
       "</table>\n",
       "</div>"
      ],
      "text/plain": [
       "           name     open     high      low    close       volume        market\n",
       "date                                                                          \n",
       "2018-01-26  BTC  11256.0  11656.7  10470.3  11171.4   9746200000  189398000000\n",
       "2018-01-25  BTC  11421.7  11785.7  11057.4  11259.4   8873170000  192163000000\n",
       "2018-01-24  BTC  10903.4  11501.4  10639.8  11359.4   9940990000  183419000000\n",
       "2018-01-23  BTC  10944.5  11377.6  10129.7  10868.4   9660610000  184087000000\n",
       "2018-01-22  BTC  11633.1  11966.4  10240.2  10931.4  10537400000  195645000000"
      ]
     },
     "execution_count": 3,
     "metadata": {},
     "output_type": "execute_result"
    }
   ],
   "source": [
    "df = loadHistoricalData()\n",
    "# some constants\n",
    "COL_VOLUME = \"volume\"\n",
    "COL_MARKET = \"market\"\n",
    "COL_NAME   = \"name\"\n",
    "COL_OPEN   = \"open\"\n",
    "COL_CLOSE  = \"close\"\n",
    "COL_HIGH   = \"high\"\n",
    "COL_LOW    = \"low\"\n",
    "WINDOW = 30\n",
    "df.head()"
   ]
  },
  {
   "cell_type": "code",
   "execution_count": 4,
   "metadata": {},
   "outputs": [
    {
     "data": {
      "text/plain": [
       "open     False\n",
       "high     False\n",
       "low      False\n",
       "close    False\n",
       "dtype: bool"
      ]
     },
     "execution_count": 4,
     "metadata": {},
     "output_type": "execute_result"
    }
   ],
   "source": [
    "currency = \"XRP\"\n",
    "#Extracting the bitcoin data from the dataframe\n",
    "dfC=df[df['name']==currency].copy()\n",
    "#Just dropping columns here!\n",
    "dfC.drop(['name', 'volume', 'market'],axis=1,inplace=True)\n",
    "#We don't have any NaN values luckily\n",
    "dfC.isnull().any()"
   ]
  },
  {
   "cell_type": "code",
   "execution_count": 5,
   "metadata": {},
   "outputs": [
    {
     "data": {
      "text/html": [
       "<div>\n",
       "<style scoped>\n",
       "    .dataframe tbody tr th:only-of-type {\n",
       "        vertical-align: middle;\n",
       "    }\n",
       "\n",
       "    .dataframe tbody tr th {\n",
       "        vertical-align: top;\n",
       "    }\n",
       "\n",
       "    .dataframe thead th {\n",
       "        text-align: right;\n",
       "    }\n",
       "</style>\n",
       "<table border=\"1\" class=\"dataframe\">\n",
       "  <thead>\n",
       "    <tr style=\"text-align: right;\">\n",
       "      <th></th>\n",
       "      <th>open</th>\n",
       "      <th>high</th>\n",
       "      <th>low</th>\n",
       "      <th>close</th>\n",
       "    </tr>\n",
       "    <tr>\n",
       "      <th>date</th>\n",
       "      <th></th>\n",
       "      <th></th>\n",
       "      <th></th>\n",
       "      <th></th>\n",
       "    </tr>\n",
       "  </thead>\n",
       "  <tbody>\n",
       "    <tr>\n",
       "      <th>2013-08-04</th>\n",
       "      <td>0.005874</td>\n",
       "      <td>0.005927</td>\n",
       "      <td>0.005874</td>\n",
       "      <td>0.005882</td>\n",
       "    </tr>\n",
       "    <tr>\n",
       "      <th>2013-08-05</th>\n",
       "      <td>0.005875</td>\n",
       "      <td>0.005980</td>\n",
       "      <td>0.005613</td>\n",
       "      <td>0.005613</td>\n",
       "    </tr>\n",
       "    <tr>\n",
       "      <th>2013-08-06</th>\n",
       "      <td>0.005637</td>\n",
       "      <td>0.005661</td>\n",
       "      <td>0.004629</td>\n",
       "      <td>0.004680</td>\n",
       "    </tr>\n",
       "    <tr>\n",
       "      <th>2013-08-07</th>\n",
       "      <td>0.004669</td>\n",
       "      <td>0.004682</td>\n",
       "      <td>0.004333</td>\n",
       "      <td>0.004417</td>\n",
       "    </tr>\n",
       "    <tr>\n",
       "      <th>2013-08-08</th>\n",
       "      <td>0.004397</td>\n",
       "      <td>0.004424</td>\n",
       "      <td>0.004175</td>\n",
       "      <td>0.004254</td>\n",
       "    </tr>\n",
       "  </tbody>\n",
       "</table>\n",
       "</div>"
      ],
      "text/plain": [
       "                open      high       low     close\n",
       "date                                              \n",
       "2013-08-04  0.005874  0.005927  0.005874  0.005882\n",
       "2013-08-05  0.005875  0.005980  0.005613  0.005613\n",
       "2013-08-06  0.005637  0.005661  0.004629  0.004680\n",
       "2013-08-07  0.004669  0.004682  0.004333  0.004417\n",
       "2013-08-08  0.004397  0.004424  0.004175  0.004254"
      ]
     },
     "execution_count": 5,
     "metadata": {},
     "output_type": "execute_result"
    }
   ],
   "source": [
    "dfC.sort_index(ascending=True, inplace=True)\n",
    "dfC.head()#Our data is pretty up to date it seems! "
   ]
  },
  {
   "cell_type": "code",
   "execution_count": 6,
   "metadata": {},
   "outputs": [
    {
     "data": {
      "text/plain": [
       "<matplotlib.legend.Legend at 0x7fd78c53d048>"
      ]
     },
     "execution_count": 6,
     "metadata": {},
     "output_type": "execute_result"
    },
    {
     "data": {
      "image/png": "[encoded data removed]",
      "text/plain": [
       "<matplotlib.figure.Figure at 0x7fd78d8729e8>"
      ]
     },
     "metadata": {},
     "output_type": "display_data"
    }
   ],
   "source": [
    "sns.set()\n",
    "sns.set_style('whitegrid')\n",
    "dfC['close'].plot(figsize=(12,6),label='Close')\n",
    "dfC['close'].rolling(window=WINDOW).mean().plot(label='{} Day Avg'.format(WINDOW))# Plotting the \n",
    "#rolling 30 day average against the Close Price\n",
    "plt.legend()"
   ]
  },
  {
   "cell_type": "code",
   "execution_count": 7,
   "metadata": {},
   "outputs": [
    {
     "data": {
      "text/html": [
       "<div>\n",
       "<style scoped>\n",
       "    .dataframe tbody tr th:only-of-type {\n",
       "        vertical-align: middle;\n",
       "    }\n",
       "\n",
       "    .dataframe tbody tr th {\n",
       "        vertical-align: top;\n",
       "    }\n",
       "\n",
       "    .dataframe thead th {\n",
       "        text-align: right;\n",
       "    }\n",
       "</style>\n",
       "<table border=\"1\" class=\"dataframe\">\n",
       "  <thead>\n",
       "    <tr style=\"text-align: right;\">\n",
       "      <th></th>\n",
       "      <th>open</th>\n",
       "      <th>high</th>\n",
       "      <th>low</th>\n",
       "      <th>close</th>\n",
       "      <th>ohlc_average</th>\n",
       "    </tr>\n",
       "    <tr>\n",
       "      <th>date</th>\n",
       "      <th></th>\n",
       "      <th></th>\n",
       "      <th></th>\n",
       "      <th></th>\n",
       "      <th></th>\n",
       "    </tr>\n",
       "  </thead>\n",
       "  <tbody>\n",
       "    <tr>\n",
       "      <th>2013-08-04</th>\n",
       "      <td>0.005874</td>\n",
       "      <td>0.005927</td>\n",
       "      <td>0.005874</td>\n",
       "      <td>0.005882</td>\n",
       "      <td>0.005889</td>\n",
       "    </tr>\n",
       "    <tr>\n",
       "      <th>2013-08-05</th>\n",
       "      <td>0.005875</td>\n",
       "      <td>0.005980</td>\n",
       "      <td>0.005613</td>\n",
       "      <td>0.005613</td>\n",
       "      <td>0.005770</td>\n",
       "    </tr>\n",
       "    <tr>\n",
       "      <th>2013-08-06</th>\n",
       "      <td>0.005637</td>\n",
       "      <td>0.005661</td>\n",
       "      <td>0.004629</td>\n",
       "      <td>0.004680</td>\n",
       "      <td>0.005152</td>\n",
       "    </tr>\n",
       "    <tr>\n",
       "      <th>2013-08-07</th>\n",
       "      <td>0.004669</td>\n",
       "      <td>0.004682</td>\n",
       "      <td>0.004333</td>\n",
       "      <td>0.004417</td>\n",
       "      <td>0.004525</td>\n",
       "    </tr>\n",
       "    <tr>\n",
       "      <th>2013-08-08</th>\n",
       "      <td>0.004397</td>\n",
       "      <td>0.004424</td>\n",
       "      <td>0.004175</td>\n",
       "      <td>0.004254</td>\n",
       "      <td>0.004312</td>\n",
       "    </tr>\n",
       "  </tbody>\n",
       "</table>\n",
       "</div>"
      ],
      "text/plain": [
       "                open      high       low     close  ohlc_average\n",
       "date                                                            \n",
       "2013-08-04  0.005874  0.005927  0.005874  0.005882      0.005889\n",
       "2013-08-05  0.005875  0.005980  0.005613  0.005613      0.005770\n",
       "2013-08-06  0.005637  0.005661  0.004629  0.004680      0.005152\n",
       "2013-08-07  0.004669  0.004682  0.004333  0.004417      0.004525\n",
       "2013-08-08  0.004397  0.004424  0.004175  0.004254      0.004312"
      ]
     },
     "execution_count": 7,
     "metadata": {},
     "output_type": "execute_result"
    }
   ],
   "source": [
    "#I will be adding a feature to improve the model.This feature is provided by Tafarel Yan in his Kernel\n",
    "\n",
    "dfC['ohlc_average'] = (dfC['open'] + dfC['high'] + dfC['low'] + dfC['close']) / 4"
   ]
  },
  {
   "cell_type": "code",
   "execution_count": 8,
   "metadata": {},
   "outputs": [],
   "source": [
    "dfC['Price_After_Month']=dfC['close'].shift(-WINDOW) #This will be our label\n",
    "dfC.tail()#We basically moved all our values 30 lines up in our last cell\n",
    "# drop data\n",
    "dfC = dfC[dfC.index.year >= 2016]"
   ]
  },
  {
   "cell_type": "code",
   "execution_count": 9,
   "metadata": {},
   "outputs": [],
   "source": [
    "#Preprocessing\n",
    "from sklearn import preprocessing\n",
    "dfC.dropna(inplace=True)\n",
    "X=dfC.drop('Price_After_Month',axis=1)\n",
    "X=preprocessing.scale(X)#We need to scale our values to input them in our model\n",
    "y=dfC['Price_After_Month']"
   ]
  },
  {
   "cell_type": "code",
   "execution_count": 10,
   "metadata": {},
   "outputs": [],
   "source": [
    "from sklearn.model_selection import train_test_split\n",
    "X_train,X_test,y_train,y_test=train_test_split(X,y,test_size=0.3,random_state=101)"
   ]
  },
  {
   "cell_type": "code",
   "execution_count": 11,
   "metadata": {},
   "outputs": [
    {
     "name": "stdout",
     "output_type": "stream",
     "text": [
      "Accuracy is: 18.894 %\n"
     ]
    }
   ],
   "source": [
    "from sklearn.ensemble import RandomForestRegressor\n",
    "reg=RandomForestRegressor(n_estimators=200,random_state=101)\n",
    "reg.fit(X_train,y_train)\n",
    "accuracy=reg.score(X_test,y_test)\n",
    "accuracy=accuracy*100\n",
    "accuracy = float(\"{0:.4f}\".format(accuracy))\n",
    "print('Accuracy is:',accuracy,'%')#This percentage shows how much our regression fits our data"
   ]
  },
  {
   "cell_type": "code",
   "execution_count": 12,
   "metadata": {},
   "outputs": [
    {
     "name": "stdout",
     "output_type": "stream",
     "text": [
      "The prediction is: 0.007933418563933698 But the real value is: 0.008834999999999999\n"
     ]
    }
   ],
   "source": [
    "preds = reg.predict(X_test)\n",
    "print(\"The prediction is:\",preds[1],\"But the real value is:\" ,y_test[1])\n",
    "#We can see that our predictions are kind of accurate but we still need to work on on them a lot."
   ]
  },
  {
   "cell_type": "code",
   "execution_count": 13,
   "metadata": {},
   "outputs": [],
   "source": [
    "#Apply our model and get our prediction\n",
    "X_WINDOW=X[-WINDOW:]#We'll take the last 30 elements to make our predictions on them\n",
    "forecast=reg.predict(X_WINDOW)"
   ]
  },
  {
   "cell_type": "code",
   "execution_count": 14,
   "metadata": {},
   "outputs": [
    {
     "data": {
      "text/html": [
       "<div>\n",
       "<style scoped>\n",
       "    .dataframe tbody tr th:only-of-type {\n",
       "        vertical-align: middle;\n",
       "    }\n",
       "\n",
       "    .dataframe tbody tr th {\n",
       "        vertical-align: top;\n",
       "    }\n",
       "\n",
       "    .dataframe thead th {\n",
       "        text-align: right;\n",
       "    }\n",
       "</style>\n",
       "<table border=\"1\" class=\"dataframe\">\n",
       "  <thead>\n",
       "    <tr style=\"text-align: right;\">\n",
       "      <th></th>\n",
       "      <th>Forecast</th>\n",
       "      <th>Price_After_Month</th>\n",
       "      <th>close</th>\n",
       "      <th>high</th>\n",
       "      <th>low</th>\n",
       "      <th>ohlc_average</th>\n",
       "      <th>open</th>\n",
       "    </tr>\n",
       "  </thead>\n",
       "  <tbody>\n",
       "    <tr>\n",
       "      <th>2018-01-20</th>\n",
       "      <td>1.52725</td>\n",
       "      <td>NaN</td>\n",
       "      <td>NaN</td>\n",
       "      <td>NaN</td>\n",
       "      <td>NaN</td>\n",
       "      <td>NaN</td>\n",
       "      <td>NaN</td>\n",
       "    </tr>\n",
       "    <tr>\n",
       "      <th>2018-01-21</th>\n",
       "      <td>1.43225</td>\n",
       "      <td>NaN</td>\n",
       "      <td>NaN</td>\n",
       "      <td>NaN</td>\n",
       "      <td>NaN</td>\n",
       "      <td>NaN</td>\n",
       "      <td>NaN</td>\n",
       "    </tr>\n",
       "    <tr>\n",
       "      <th>2018-01-22</th>\n",
       "      <td>1.38800</td>\n",
       "      <td>NaN</td>\n",
       "      <td>NaN</td>\n",
       "      <td>NaN</td>\n",
       "      <td>NaN</td>\n",
       "      <td>NaN</td>\n",
       "      <td>NaN</td>\n",
       "    </tr>\n",
       "    <tr>\n",
       "      <th>2018-01-23</th>\n",
       "      <td>1.37285</td>\n",
       "      <td>NaN</td>\n",
       "      <td>NaN</td>\n",
       "      <td>NaN</td>\n",
       "      <td>NaN</td>\n",
       "      <td>NaN</td>\n",
       "      <td>NaN</td>\n",
       "    </tr>\n",
       "    <tr>\n",
       "      <th>2018-01-24</th>\n",
       "      <td>1.38535</td>\n",
       "      <td>NaN</td>\n",
       "      <td>NaN</td>\n",
       "      <td>NaN</td>\n",
       "      <td>NaN</td>\n",
       "      <td>NaN</td>\n",
       "      <td>NaN</td>\n",
       "    </tr>\n",
       "  </tbody>\n",
       "</table>\n",
       "</div>"
      ],
      "text/plain": [
       "            Forecast  Price_After_Month  close  high  low  ohlc_average  open\n",
       "2018-01-20   1.52725                NaN    NaN   NaN  NaN           NaN   NaN\n",
       "2018-01-21   1.43225                NaN    NaN   NaN  NaN           NaN   NaN\n",
       "2018-01-22   1.38800                NaN    NaN   NaN  NaN           NaN   NaN\n",
       "2018-01-23   1.37285                NaN    NaN   NaN  NaN           NaN   NaN\n",
       "2018-01-24   1.38535                NaN    NaN   NaN  NaN           NaN   NaN"
      ]
     },
     "execution_count": 14,
     "metadata": {},
     "output_type": "execute_result"
    }
   ],
   "source": [
    "#creating a new column which contains the predictions! \n",
    "#Proceed at your own risk!  \n",
    "from datetime import datetime, timedelta\n",
    "last_date=dfC.iloc[-1].name\n",
    "modified_date = last_date + timedelta(days=1)\n",
    "date=pd.date_range(modified_date,periods=WINDOW,freq='D')\n",
    "df1=pd.DataFrame(forecast,columns=['Forecast'],index=date)\n",
    "dfC=dfC.append(df1)\n",
    "dfC.tail()"
   ]
  },
  {
   "cell_type": "code",
   "execution_count": 15,
   "metadata": {},
   "outputs": [
    {
     "data": {
      "text/plain": [
       "<matplotlib.legend.Legend at 0x7fd78c6e2518>"
      ]
     },
     "execution_count": 15,
     "metadata": {},
     "output_type": "execute_result"
    },
    {
     "data": {
      "image/png": "[encoded data removed]",
      "text/plain": [
       "<matplotlib.figure.Figure at 0x7fd7c85b72e8>"
      ]
     },
     "metadata": {},
     "output_type": "display_data"
    }
   ],
   "source": [
    "#Now we'll plot our forecast! \n",
    "dfC['close'].plot(figsize=(12,6),label='Close')\n",
    "dfC['Forecast'].plot(label='forecast')\n",
    "plt.legend()"
   ]
  }
 ],
 "metadata": {
  "kernelspec": {
   "display_name": "Python 3",
   "language": "python",
   "name": "python3"
  },
  "language_info": {
   "codemirror_mode": {
    "name": "ipython",
    "version": 3
   },
   "file_extension": ".py",
   "mimetype": "text/x-python",
   "name": "python",
   "nbconvert_exporter": "python",
   "pygments_lexer": "ipython3",
   "version": "3.5.2"
  }
 },
 "nbformat": 4,
 "nbformat_minor": 2
}
