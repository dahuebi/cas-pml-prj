{
 "cells": [
  {
   "cell_type": "markdown",
   "metadata": {},
   "source": [
    "# Data preprocessing\n",
    "\n",
    "In this notebook the data stored in `coinmarketcap.csv` is preprocessed."
   ]
  },
  {
   "cell_type": "code",
   "execution_count": 1,
   "metadata": {},
   "outputs": [],
   "source": [
    "# import modules\n",
    "import os\n",
    "import pandas as pd"
   ]
  },
  {
   "cell_type": "markdown",
   "metadata": {},
   "source": [
    "## Constants"
   ]
  },
  {
   "cell_type": "code",
   "execution_count": 2,
   "metadata": {},
   "outputs": [],
   "source": [
    "# directory of this projects root, jupyter must be started accordingly\n",
    "ROOT_DIR = os.path.abspath(os.path.join(os.getcwd(), \"..\"))\n",
    "# directory for the cache\n",
    "CACHE_DIR = os.path.join(ROOT_DIR, \"cache\")\n",
    "# resulting csv file holding **all** data\n",
    "DATA_CSV = os.path.join(ROOT_DIR, \"coinmarketcap.csv\")"
   ]
  },
  {
   "cell_type": "markdown",
   "metadata": {},
   "source": [
    "## Load and preprocess data"
   ]
  },
  {
   "cell_type": "markdown",
   "metadata": {},
   "source": [
    "### Load `coinmarketcap.csv`"
   ]
  },
  {
   "cell_type": "code",
   "execution_count": 3,
   "metadata": {},
   "outputs": [],
   "source": [
    "def loadCsv(path):\n",
    "    \"\"\"\n",
    "    Load CSV specified by `path` as pandas dataframe.\n",
    "    \"\"\"\n",
    "    return pd.read_csv(path)"
   ]
  },
  {
   "cell_type": "markdown",
   "metadata": {},
   "source": [
    "### Require a currency to have at least `minSamples`"
   ]
  },
  {
   "cell_type": "code",
   "execution_count": 4,
   "metadata": {},
   "outputs": [],
   "source": [
    "def filterMinSamples(df, minSamples):\n",
    "    \"\"\"\n",
    "    Filter dataframe, remove currencies not having\n",
    "    at least `minSamples`\n",
    "    \"\"\"\n",
    "    grouped = df.groupby([\"slug\"]).size()\n",
    "    sampleFilter = grouped[grouped >= minSamples]\n",
    "    return df[df.slug.isin(sampleFilter.index)]"
   ]
  },
  {
   "cell_type": "markdown",
   "metadata": {},
   "source": [
    "### Require a currency to have at least a volume of `minVolume` and a market capitalisation of `minMarketCap`"
   ]
  },
  {
   "cell_type": "code",
   "execution_count": 5,
   "metadata": {},
   "outputs": [],
   "source": [
    "def filterMinVolumeAndMinMarketCap(df, minVolume, minMarketCap):\n",
    "    \"\"\"\n",
    "    Filter dataframe, remove currencies not having\n",
    "    `minVolume` and `minMarketCap`\n",
    "    \"\"\"\n",
    "    names = df[(df.volume >= minVolume) &\n",
    "            (df[\"marketcap\"] >= minMarketCap)].slug.unique()\n",
    "    return df[df.slug.isin(names)]"
   ]
  },
  {
   "cell_type": "markdown",
   "metadata": {},
   "source": [
    "### Fill missing samples\n",
    "Here we look for missing dates/samples for each currency and interpolate."
   ]
  },
  {
   "cell_type": "code",
   "execution_count": 6,
   "metadata": {},
   "outputs": [],
   "source": [
    "def fillMissingSamples(df):\n",
    "    \"\"\"\n",
    "    Fill missing samples in dataframe.\n",
    "    Each currency is checked if the time serie complete\n",
    "    (if dates are missing).\n",
    "    If the serie is not complete, the missing values are\n",
    "    interpolated.\n",
    "    \"\"\"\n",
    "    # count filled samples\n",
    "    cnt = 0\n",
    "    grouped = df.groupby([\"slug\"], sort=False)\n",
    "    groups = []\n",
    "    # for eac currency check the time serie\n",
    "    for slug, group in grouped:\n",
    "        # assure we have no duplicates\n",
    "        assert(len(group.index) == len(group.index.unique()))\n",
    "        name = group.name.unique()[0]\n",
    "        # convert dates to datetime, may have missing dates\n",
    "        index = pd.to_datetime(group[\"date\"], format=\"%Y%m%d\")\n",
    "        # set index to datetime time serie\n",
    "        group.set_index(index, inplace=True)\n",
    "        # drop the date row\n",
    "        group = group.drop(\"date\", axis=1)\n",
    "        # get the first and last date\n",
    "        head = group.iloc[0].head(1).name\n",
    "        tail = group.iloc[-1].head(1).name\n",
    "        # create a datetime index holding continous dates\n",
    "        # there are no missing dates in this index\n",
    "        newIndex = pd.date_range(head, tail)\n",
    "        # apply index to currency\n",
    "        group = group.reindex(newIndex)\n",
    "        # convert index of datetime to string representation\n",
    "        date = group.index.strftime(\"%Y%m%d\")\n",
    "        # insert continous 'date' column\n",
    "        group.insert(0, \"date\", date)\n",
    "        # check if values are missing\n",
    "        if group.isnull().values.any():\n",
    "            group.slug = slug\n",
    "            group.name = name\n",
    "            # update counter\n",
    "            cnt += len(group[group.isnull().any(axis=1)])\n",
    "            # fill missing values\n",
    "            group.interpolate(inplace=True)\n",
    "\n",
    "        # here there should not be any missing values\n",
    "        assert(not group.isnull().values.any())\n",
    "        # drop the index, so we have the same format\n",
    "        # as the original dataframe\n",
    "        group = group.reset_index(drop=True)\n",
    "        groups.append(group)\n",
    "\n",
    "    print(\"Samples filled: {}\".format(cnt))\n",
    "    # concatenate all groups together to a new data frame\n",
    "    return pd.concat(groups)"
   ]
  },
  {
   "cell_type": "markdown",
   "metadata": {},
   "source": [
    "### Put all together into a nice function"
   ]
  },
  {
   "cell_type": "code",
   "execution_count": 7,
   "metadata": {},
   "outputs": [],
   "source": [
    "def loadCoinMarketCap(\n",
    "        minSamples=365, # require at least a year\n",
    "        minVolume=1000*1000, # require a volume of at least 1 million\n",
    "        minMarketCap=1000*1000, # require a market capitalisation of at least 1 million\n",
    "        fillMissingDates=True, # by default, fill missing sample\n",
    "        ):\n",
    "    df = pd.read_csv(DATA_CSV)\n",
    "    df = filterMinSamples(df, minSamples)\n",
    "    df = filterMinVolumeAndMinMarketCap(df, minVolume, minMarketCap)\n",
    "\n",
    "    # fill missing values\n",
    "    if fillMissingDates:\n",
    "        df = fillMissingSamples(df)\n",
    "\n",
    "    # use date as index\n",
    "    index = pd.to_datetime(df[\"date\"], format=\"%Y%m%d\")\n",
    "    df.set_index(index, inplace=True)\n",
    "    df = df.drop(\"date\", axis=1)\n",
    "\n",
    "    print(\"Loaded {} currencies, {} samples.\".format(\n",
    "        len(df.slug.unique()), len(df)))\n",
    "    return df"
   ]
  },
  {
   "cell_type": "markdown",
   "metadata": {},
   "source": [
    "## Run the code"
   ]
  },
  {
   "cell_type": "code",
   "execution_count": 8,
   "metadata": {},
   "outputs": [
    {
     "name": "stdout",
     "output_type": "stream",
     "text": [
      "Samples filled: 3116\n",
      "Loaded 239 currencies, 259544 samples.\n"
     ]
    },
    {
     "data": {
      "text/html": [
       "<div>\n",
       "<style scoped>\n",
       "    .dataframe tbody tr th:only-of-type {\n",
       "        vertical-align: middle;\n",
       "    }\n",
       "\n",
       "    .dataframe tbody tr th {\n",
       "        vertical-align: top;\n",
       "    }\n",
       "\n",
       "    .dataframe thead th {\n",
       "        text-align: right;\n",
       "    }\n",
       "</style>\n",
       "<table border=\"1\" class=\"dataframe\">\n",
       "  <thead>\n",
       "    <tr style=\"text-align: right;\">\n",
       "      <th></th>\n",
       "      <th>slug</th>\n",
       "      <th>name</th>\n",
       "      <th>open</th>\n",
       "      <th>high</th>\n",
       "      <th>low</th>\n",
       "      <th>close</th>\n",
       "      <th>volume</th>\n",
       "      <th>marketcap</th>\n",
       "    </tr>\n",
       "    <tr>\n",
       "      <th>date</th>\n",
       "      <th></th>\n",
       "      <th></th>\n",
       "      <th></th>\n",
       "      <th></th>\n",
       "      <th></th>\n",
       "      <th></th>\n",
       "      <th></th>\n",
       "      <th></th>\n",
       "    </tr>\n",
       "  </thead>\n",
       "  <tbody>\n",
       "    <tr>\n",
       "      <th>2013-04-28</th>\n",
       "      <td>bitcoin</td>\n",
       "      <td>BTC</td>\n",
       "      <td>135.30</td>\n",
       "      <td>135.98</td>\n",
       "      <td>132.10</td>\n",
       "      <td>134.21</td>\n",
       "      <td>0.0</td>\n",
       "      <td>1.500520e+09</td>\n",
       "    </tr>\n",
       "    <tr>\n",
       "      <th>2013-04-29</th>\n",
       "      <td>bitcoin</td>\n",
       "      <td>BTC</td>\n",
       "      <td>134.44</td>\n",
       "      <td>147.49</td>\n",
       "      <td>134.00</td>\n",
       "      <td>144.54</td>\n",
       "      <td>0.0</td>\n",
       "      <td>1.491160e+09</td>\n",
       "    </tr>\n",
       "    <tr>\n",
       "      <th>2013-04-30</th>\n",
       "      <td>bitcoin</td>\n",
       "      <td>BTC</td>\n",
       "      <td>144.00</td>\n",
       "      <td>146.93</td>\n",
       "      <td>134.05</td>\n",
       "      <td>139.00</td>\n",
       "      <td>0.0</td>\n",
       "      <td>1.597780e+09</td>\n",
       "    </tr>\n",
       "    <tr>\n",
       "      <th>2013-05-01</th>\n",
       "      <td>bitcoin</td>\n",
       "      <td>BTC</td>\n",
       "      <td>139.00</td>\n",
       "      <td>139.89</td>\n",
       "      <td>107.72</td>\n",
       "      <td>116.99</td>\n",
       "      <td>0.0</td>\n",
       "      <td>1.542820e+09</td>\n",
       "    </tr>\n",
       "    <tr>\n",
       "      <th>2013-05-02</th>\n",
       "      <td>bitcoin</td>\n",
       "      <td>BTC</td>\n",
       "      <td>116.38</td>\n",
       "      <td>125.60</td>\n",
       "      <td>92.28</td>\n",
       "      <td>105.21</td>\n",
       "      <td>0.0</td>\n",
       "      <td>1.292190e+09</td>\n",
       "    </tr>\n",
       "  </tbody>\n",
       "</table>\n",
       "</div>"
      ],
      "text/plain": [
       "               slug name    open    high     low   close  volume     marketcap\n",
       "date                                                                          \n",
       "2013-04-28  bitcoin  BTC  135.30  135.98  132.10  134.21     0.0  1.500520e+09\n",
       "2013-04-29  bitcoin  BTC  134.44  147.49  134.00  144.54     0.0  1.491160e+09\n",
       "2013-04-30  bitcoin  BTC  144.00  146.93  134.05  139.00     0.0  1.597780e+09\n",
       "2013-05-01  bitcoin  BTC  139.00  139.89  107.72  116.99     0.0  1.542820e+09\n",
       "2013-05-02  bitcoin  BTC  116.38  125.60   92.28  105.21     0.0  1.292190e+09"
      ]
     },
     "execution_count": 8,
     "metadata": {},
     "output_type": "execute_result"
    }
   ],
   "source": [
    "df = loadCoinMarketCap()\n",
    "df.head()"
   ]
  },
  {
   "cell_type": "code",
   "execution_count": null,
   "metadata": {},
   "outputs": [],
   "source": []
  }
 ],
 "metadata": {
  "kernelspec": {
   "display_name": "Python 3",
   "language": "python",
   "name": "python3"
  },
  "language_info": {
   "codemirror_mode": {
    "name": "ipython",
    "version": 3
   },
   "file_extension": ".py",
   "mimetype": "text/x-python",
   "name": "python",
   "nbconvert_exporter": "python",
   "pygments_lexer": "ipython3",
   "version": "3.6.3"
  }
 },
 "nbformat": 4,
 "nbformat_minor": 2
}
